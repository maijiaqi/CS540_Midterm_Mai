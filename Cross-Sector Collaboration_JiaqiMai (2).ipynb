{
 "metadata": {
  "name": "",
  "signature": "sha256:999d25025aa3348a01d10844adda98172c01b37b3d0c1f10e0606fdb842aec15"
 },
 "nbformat": 3,
 "nbformat_minor": 0,
 "worksheets": [
  {
   "cells": [
    {
     "cell_type": "markdown",
     "metadata": {},
     "source": [
      "## Outline of the Model\n",
      "\n",
      "I. Major Question: Organizations from the public, private, and nonprofit sector have different resources, demands, and level of commitments to solve the social problems, making tri-sector collaboration or cross-sector collaboration difficult. If there is one or more  facilitators among the organizations who understand the differences of concerns and can help passing information across, would it increase the number of cross-sector collaboration?\n",
      "\n",
      "\n",
      "II. Why Networks: I use networks solution because I am trying to study the relationships between organizations from different sectors and how does the dynamic changes (forming cross-sector collaboration) with and without facilitators in between. Also, in my model, I am not concerned about the physical space exist between organizations from different sector. Instead, I am more interested in the formation of relationship between organizations. \n",
      "\n",
      "\n",
      "III. How it works: I will create three clusters of organizations that represents the public, private, and nonprofit sectors. First, I will examine how many collaborations are formed with random probability to connect. Second, I will add facilitators that are connected to all three clusters and the faciliators can connect nodes from each cluster based on nodes' resources and demands. Then, I will measure how many collaborations are formed with facilitators. Lastly, I will compare the differences and draw conclusion whether facilitators foster or hinder cross-sector collaboration. "
     ]
    },
    {
     "cell_type": "heading",
     "level": 1,
     "metadata": {},
     "source": [
      "Code Notebook "
     ]
    },
    {
     "cell_type": "markdown",
     "metadata": {},
     "source": [
      "## Brief overview of the model\n",
      "\n",
      "The model will look at the effect of facilitators in forming cross-sector collaboration by comparing condition where there is no facilitator and condition where there is facilitator. "
     ]
    },
    {
     "cell_type": "markdown",
     "metadata": {},
     "source": [
      "I.  Space represents a common issue that all the orgnizations are concerned about. A concrete, real-life example is nature disaster relief.\n",
      "\n",
      "II. Actors:\n",
      "A. Organizations in the public, private, and nonprofit sectors. There are total 3 clusters representing three sectors. \n",
      "\n",
      "1.There are 3 government agencies in one cluster. Each of the agency has resources in Cash and People, but demand for Capital and more People. It has medium degree of commtment to the social problem.\n",
      "\n",
      "2.There are 3 companies in one cluster. Each of the company has resources in Capital, but demand for People and more Cash. It has low degree of commitment to the social problem. \n",
      "\n",
      "3.There are 3 nonprofit organization in one cluster. Each of the nonprofit has resources in People, but demand for Cash and Capital. It has high degree of commitment to the social problem.\n",
      "** Notice that the resources own by different organizations can be abstract and can be replaced by different type of resources. \n",
      "\n",
      "B. Facilitators between the sectors\n",
      "\n",
      "A facilitator is connected to all nodes in all three clusters, hence, it means that the facilitator understand the resources and demands of organizations in each sector and their degree of commitment. \n",
      "\n",
      "III. Initial Conditions\n",
      "There are three isolated clusters in the network graph. Each cluster has three nodes that are completely connected with one another. The nodes in the clusters have a random probability to connect with nodes outsides of their cluster. A not-bolded edge between the nodes represent a connection, a bolded edge rerpesents a formation of collaboration. \n",
      "\n",
      "IV. Model Parameters\n",
      "Based on the description above, we need the following model parameters:\n",
      "\n",
      "\u25cf\torg_type: Gov, Bus, Np. each org has a unique id.\n",
      "\n",
      "\u25cf\tprob_C: probability to connect without facilitator. I will randomly initialize a value from a uniform continuous distribution. \n",
      "\n",
      "\u25cf\tResources: This means the type of resource and the amount of resource that an organization has.\n",
      "    Cash, range from 0 to 1. \n",
      "      For Gov, the amount of Cash it has range from 0.8-1. \n",
      "      For Bus, the amount of Cash it has range from 0.4-0.6. \n",
      "      For Np, the amount of Cash it has range from 0-0.2.\n",
      "    Capital, range from 0 to 1. \n",
      "      For Gov, the amount of Capital it has range from 0-0.2. \n",
      "      For Bus, the amount of Captial it has range from 0.8-1. \n",
      "      For Np, the amount of Captial it has range from 0-0.2. \n",
      "    People, range from 0 to 1. \n",
      "      For Gov, the amount of People resource it has range from 0.4-0.6. \n",
      "      For Bus, the amount of People resource it has range from 0-0.2. \n",
      "      For Np, the amount of People resource it has range from 0.8-1. \n",
      "    **Demand: The organization demands the resources that they are lack of, which means the amount of the resources they have that are low than 1. \n",
      "\n",
      "\u25cf\tDOC: This means the degree of commitment to the problem. Lowest to Highest: 0 to 1.  \n",
      "    For Gov, its DOC range from 0.4-0.6.\n",
      "    For Bus, its DOC range from 0.0-0.2.\n",
      "    For Np, its DOC range from 0.8-1.0.\n",
      "    \n",
      "V. Step Methods:\n",
      "\n",
      "A. Condition without facilitator.\n",
      "\n",
      "1. Make org A connect with node B from another cluster based on the probability of connect. A edge will form between the nodes representing a connection formed.\n",
      "\n",
      "2. Node A will collaborate with node B if: \n",
      "   1) A.Cash< B.Cash by 0.5 or 2)A.Capital< B.Capital by 0.5 or 3) A.People< B.People by 0.5. If one of these conditions hold true, then node A will evaluate the degree of Commitment of node B. \n",
      "   4) If B.DOC-A.DOC <= 0.5, then node A will consider collaborate with node B. Otherwise, they fail to collaborate. \n",
      "   \n",
      "3. Node B will collborate with node A if:\n",
      "   1) B.Cash< A.Cash by 0.5 or 2)B.Capital< A.Capital by 0.5 or 3) B.People< A.People by 0.5. If one of these conditions hold true, then node B will evaluate the degree of Commitment of node A. \n",
      "   4) If B.DOC-A.DOC < 0.6, then node A will consider collaborate with node B. Otherwise, they fail to collaborate. \n",
      "   \n",
      "4. After all conditions are met from both sides, then a collaboration is formed between node A and node B. A bolded edge will form between them representing a collaboration formed. \n",
      "\n",
      "5. Run the model for 100 times and measure the number of collaboration formed. \n",
      "\n",
      "B. Condition with facilitator.\n",
      "\n",
      "1. The Facilitator will connect node A and node B if: B.DOC-A.DOC <= +/-0.5. An edge will form between the nodes representing a connection formed.\n",
      "\n",
      "2. Node A will collaborate with node B if:\n",
      "   1) A.Cash< B.Cash by 0.5 or 2)A.Capital< B.Capital by 0.5 or 3) A.People< B.People by 0.5. If one of these conditions hold true, then node A will evaluate the degree of Commitment of node B. \n",
      "\n",
      "3. Node B will collaborate with node A if:\n",
      "   1) B.Cash< A.Cash by 0.5 or 2)B.Capital< A.Capital by 0.5 or 3) B.People< A.People by 0.5. If one of these conditions hold true, then node B will evaluate the degree of Commitment of node A. \n",
      "   \n",
      "4. After all conditions are met from both sides, then a collaboration is formed between node A and node B. A bolded edge will form between them representing a collaboration formed. \n",
      "\n",
      "5. Run the model for 100 times and measure the number of collaboration formed. \n",
      "\n",
      "VI. Sweep parameters:\n",
      "\n",
      "A. Add one or more facilitators and measure the outcome: number of collaboration formed. Compare the number with the number of collaboration formed in a condition that has no facilitator. \n",
      "\n",
      "B. Sweep the resource amount that each type of organization has. Measure and compare the outcome: the number of collaboration formed.\n",
      "\n",
      "C. Sweep the value of the degree of commitment that each type of organization has. Measure and compare the outcome: the number of collaboration formed. \n"
     ]
    },
    {
     "cell_type": "code",
     "collapsed": false,
     "input": [
      "%matplotlib inline\n",
      "\n",
      "# Imports\n",
      "import networkx as nx\n",
      "import numpy\n",
      "import matplotlib.pyplot as plt\n",
      "import pandas\n",
      "\n",
      "# Import widget methods\n",
      "from IPython.html.widgets import *"
     ],
     "language": "python",
     "metadata": {},
     "outputs": [],
     "prompt_number": 6
    },
    {
     "cell_type": "markdown",
     "metadata": {},
     "source": [
      "## space class\n",
      "The space represents a common issue that all the agents are concerned about. A concrete, real-life example is nature disaster relief. \n",
      "\n",
      "--Cluster: Initiate three cluster networks (complete graph) which represents the public sector, private sector, and the nonprofit sector. \n",
      "\n",
      "--Node: Nodes in each cluster represent organizations that are in one of the three sectors. "
     ]
    },
    {
     "cell_type": "code",
     "collapsed": false,
     "input": [
      "# Create a compete graph1\n",
      "nodes = 3\n",
      "G1 = nx.complete_graph(nodes)\n",
      "print((G1.number_of_nodes(), G1.number_of_edges()))"
     ],
     "language": "python",
     "metadata": {},
     "outputs": [
      {
       "output_type": "stream",
       "stream": "stdout",
       "text": [
        "(3, 3)\n"
       ]
      }
     ],
     "prompt_number": 41
    },
    {
     "cell_type": "code",
     "collapsed": false,
     "input": [
      "# Draw the complete graph1\n",
      "G1_layout = nx.spring_layout(G1, iterations=100)\n",
      "nx.draw_networkx(G1, pos=G1_layout)"
     ],
     "language": "python",
     "metadata": {},
     "outputs": [
      {
       "metadata": {},
       "output_type": "display_data",
       "png": "[encoded data removed]",
       "text": [
        "<matplotlib.figure.Figure at 0x14f725c0>"
       ]
      }
     ],
     "prompt_number": 105
    },
    {
     "cell_type": "code",
     "collapsed": false,
     "input": [
      "# Create a compete graph2\n",
      "nodes = 3\n",
      "G2=nx.Graph()\n",
      "G2.add_edges_from([(3,4),(4,5),(3,5)])\n",
      "print((G2.number_of_nodes(), G2.number_of_edges()))"
     ],
     "language": "python",
     "metadata": {},
     "outputs": [
      {
       "output_type": "stream",
       "stream": "stdout",
       "text": [
        "(3, 3)\n"
       ]
      }
     ],
     "prompt_number": 46
    },
    {
     "cell_type": "code",
     "collapsed": false,
     "input": [
      "# Draw the complete graph2\n",
      "G2_layout = nx.spring_layout(G2, iterations=100)\n",
      "nx.draw_networkx(G2, pos=G2_layout, node_color='r')"
     ],
     "language": "python",
     "metadata": {},
     "outputs": [
      {
       "metadata": {},
       "output_type": "display_data",
       "png": "[encoded data removed]",
       "text": [
        "<matplotlib.figure.Figure at 0x139f22e8>"
       ]
      }
     ],
     "prompt_number": 47
    },
    {
     "cell_type": "code",
     "collapsed": false,
     "input": [
      "# Create a compete graph3\n",
      "nodes = 3\n",
      "G3 = nx.Graph()\n",
      "G3.add_edges_from([(6,7),(7,8),(6,8)])\n",
      "G3_layout = nx.spring_layout(G3, iterations=100)\n",
      "nx.draw_networkx(G3, pos=G3_layout)"
     ],
     "language": "python",
     "metadata": {},
     "outputs": [
      {
       "metadata": {},
       "output_type": "display_data",
       "png": "[encoded data removed]",
       "text": [
        "<matplotlib.figure.Figure at 0x15fed940>"
       ]
      }
     ],
     "prompt_number": 103
    },
    {
     "cell_type": "code",
     "collapsed": false,
     "input": [
      "# Create graph 4\n",
      "G4 = nx.compose(G1,G2) \n",
      "print((G4.number_of_nodes(), G4.number_of_edges()))"
     ],
     "language": "python",
     "metadata": {},
     "outputs": [
      {
       "output_type": "stream",
       "stream": "stdout",
       "text": [
        "(6, 6)\n"
       ]
      }
     ],
     "prompt_number": 98
    },
    {
     "cell_type": "code",
     "collapsed": false,
     "input": [
      "# Draw graph4\n",
      "G4_layout = nx.spring_layout(G4, iterations=100)\n",
      "nx.draw_networkx(G4, pos=G4_layout)"
     ],
     "language": "python",
     "metadata": {},
     "outputs": [
      {
       "metadata": {},
       "output_type": "display_data",
       "png": "[encoded data removed]",
       "text": [
        "<matplotlib.figure.Figure at 0x15a24358>"
       ]
      }
     ],
     "prompt_number": 99
    },
    {
     "cell_type": "code",
     "collapsed": false,
     "input": [
      "# Create graph 5\n",
      "G5 = nx.disjoint_union(G3,G4)\n",
      "print((G5.number_of_nodes(),G5.number_of_edges()))"
     ],
     "language": "python",
     "metadata": {},
     "outputs": [
      {
       "output_type": "stream",
       "stream": "stdout",
       "text": [
        "(9, 9)\n"
       ]
      }
     ],
     "prompt_number": 88
    },
    {
     "cell_type": "code",
     "collapsed": false,
     "input": [
      "# Draw graoh 5\n",
      "G5_layout = nx.spring_layout(G5, iterations=100)\n",
      "nx.draw_networkx(G5, pos=G5_layout)"
     ],
     "language": "python",
     "metadata": {},
     "outputs": [
      {
       "metadata": {},
       "output_type": "display_data",
       "png": "[encoded data removed]",
       "text": [
        "<matplotlib.figure.Figure at 0x155ab780>"
       ]
      }
     ],
     "prompt_number": 93
    },
    {
     "cell_type": "markdown",
     "metadata": {},
     "source": [
      "##  Organization Class\n",
      "-Define the three types of organizations: Gov, Bus, Np and set the parameter and variables that each has. \n",
      "\u25cf\tprob_C: probability to connect for all nodes without facilitator. I will randomly initialize a value from a uniform continuous distribution. \n",
      "\n",
      "\u25cf\tThere are three types of resources: Cash, Capital, People. The amount of resources an node has range from 0 to 1. \n",
      "\n",
      "\u25cf\tDOC: This means the degree of commitment of an organization to the problem. Lowest to Highest: 0 to 1.  \n",
      "    "
     ]
    },
    {
     "cell_type": "code",
     "collapsed": false,
     "input": [
      "class Gov():\n",
      "    \"\"\"\n",
      "    Gov class, which encapsulates the entire behavior of government agencies. \n",
      "    \"\"\"\n",
      "    \n",
      "    def __init__(self, model, gov_id, cashMin, cashMax, capitalMin, capitalMax, peopleMin,  peopleMax, docMin, docMax, prob_C):\n",
      "        \n",
      "        # Set Gov parameters\n",
      "        self.cash = numpy.random.uniform(cashMin, cashMax)\n",
      "        self.capital = numpy.random.uniform(capitalMin, capitalMax)\n",
      "        self.people = numpy.random.uniform(peopleMin,peopleMax)\n",
      "        self.doc = numpy.random.uniform(docMin,docMax)\n",
      "        self.prob_C= prob_C\n",
      "        \n",
      "        \n",
      "        # Set model link and ID\n",
      "        self.model = model\n",
      "        self.gov_id = gov_id \n",
      "        \n",
      "    def decide_connect(Self):\n",
      "        \"\"\"\n",
      "        Decide if a node want to connect with another node from another cluster.\n",
      "        \"\"\"\n",
      "        if numpy.random.random() <= self.prob_C:\n",
      "            return True\n",
      "        else:\n",
      "            return False    \n",
      "\n",
      "class Bus():\n",
      "    \"\"\"\n",
      "    Bus class, which encapsulates the entire behavior of companies. \n",
      "    \"\"\"\n",
      "    \n",
      "    def __init__(self, model, bus_id, cashMin, cashMax, capitalMin, capitalMax, peopleMin,  peopleMax, docMin, docMax, prob_C):\n",
      "        \n",
      "        # Set Bus parameters\n",
      "        self.cash = numpy.random.uniform(cashMin, cashMax)\n",
      "        self.capital = numpy.random.uniform(capitalMin, capitalMax)\n",
      "        self.people = numpy.random.uniform(peopleMin,peopleMax)\n",
      "        self.doc = numpy.random.uniform(docMin,docMax)\n",
      "        self.prob_C= prob_C\n",
      "        \n",
      "        \n",
      "        # Set model link and ID\n",
      "        self.model = model\n",
      "        self.bus_id = bus_id \n",
      "        \n",
      "    def decide_connect(Self):\n",
      "        \"\"\"\n",
      "        Decide if a node want to connect with another node from another cluster.\n",
      "        \"\"\"\n",
      "        if numpy.random.random() <= self.prob_C:\n",
      "            return True\n",
      "        else:\n",
      "            return False    \n",
      "\n",
      "class Np():\n",
      "    \"\"\"\n",
      "    Np class, which encapsulates the entire behavior of NGOs. \n",
      "    \"\"\" \n",
      "    \n",
      "    def __init__(self, model, np_id, cashMin, cashMax, capitalMin, capitalMax, peopleMin,  peopleMax, docMin, docMax, prob_C):\n",
      "        \n",
      "        # Set Np parameters\n",
      "        self.cash = numpy.random.uniform(cashMin, cashMax)\n",
      "        self.capital = numpy.random.uniform(capitalMin, capitalMax)\n",
      "        self.people = numpy.random.uniform(peopleMin,peopleMax)\n",
      "        self.doc = numpy.random.uniform(docMin,docMax)\n",
      "        self.prob_C= prob_C\n",
      "        \n",
      "        \n",
      "        # Set model link and ID\n",
      "        self.model = model\n",
      "        self.np_id = np_id \n",
      "        \n",
      "    def decide_connect(Self):\n",
      "        \"\"\"\n",
      "        Decide if a node want to connect with another node from another cluster.\n",
      "        \"\"\"\n",
      "        if numpy.random.random() <= self.prob_C:\n",
      "            return True\n",
      "        else:\n",
      "            return False    \n",
      "\n"
     ],
     "language": "python",
     "metadata": {},
     "outputs": [
      {
       "ename": "SyntaxError",
       "evalue": "invalid syntax (<ipython-input-18-2c3eaf9b4bf5>, line 68)",
       "output_type": "pyerr",
       "traceback": [
        "\u001b[1;36m  File \u001b[1;32m\"<ipython-input-18-2c3eaf9b4bf5>\"\u001b[1;36m, line \u001b[1;32m68\u001b[0m\n\u001b[1;33m    if : id.Cash-id.Cash = or > 0.5\u001b[0m\n\u001b[1;37m       ^\u001b[0m\n\u001b[1;31mSyntaxError\u001b[0m\u001b[1;31m:\u001b[0m invalid syntax\n"
       ]
      }
     ],
     "prompt_number": 18
    },
    {
     "cell_type": "markdown",
     "metadata": {},
     "source": [
      "## Model Class\n",
      "\n",
      "1.constructor: class constructor, which \"initializes\" or \"creates\" the model when we call Model(). This is in the __init__ method.\n",
      "2.setup_space: method to create our \"space\"\n",
      "3.setup_cluster: method to create \"cluster\"\n",
      "4.setup_org: method to create our \"organization\"\n",
      "5.setup_facilitator: method to create our \"facilitator\"\n",
      "6.get_orgoutside: method to get organization A connect with organization B that is outside of A's cluster based on prob_C\n",
      "\n",
      "7.Conditional testing for all nodes: Each node has two criterias that need to be met! \n",
      "        if : id.Cash-id.Cash = or > 0.5 \n",
      "        or   id.Capital-id.Capital = or > 0.5\n",
      "        or   id.People-id.People = or > 0.5\n",
      "        and: id.DOC-id.DOC = or < +/- 0.5\n",
      "            return Collaborate (bold edge?)\n",
      "        else: \n",
      "            return Fail (non-bolded edge)"
     ]
    },
    {
     "cell_type": "code",
     "collapsed": false,
     "input": [
      "class Model(object):\n",
      "    \"\"\"\n",
      "    Model class, which encapsulates the entire behavior of a single \"run\" in our HIV ABM.\n",
      "    \"\"\"\n",
      "    \n",
      "    def __init__(self, cluster, num_org, prob_C=0.5, gov_cashMin=0.8, gov_cashMax=1.0, gov_capitalMin=0.0, gov_capitalMax=0.2, \n",
      "                 gov_peopleMin=0.4,gov_peopleMax=0.6, gov_DOCMin=0.4, gov_DOCMax=0.6, bus_cashMin=0.4, bus_cashMax=0.6, \n",
      "                 bus_capitalMin=0.8, bus_capitalMax=1.0, bus_peopleMin=0.0, bus_peopleMax=1.0, bus_DOCMin=0.1, bus_DOCMax=0.3, \n",
      "                 np_cashMin=0.0, np_cashMax=0.2, np_capitalMin=0.0, np_capitalMax=0.2, np_peopleMin=0.8, np_peopleMax=1.0,\n",
      "                 np_DOCMin=0.8, np_DOCMax=1.0):\n",
      "        \"\"\"\n",
      "        Class constructor.\n",
      "        \"\"\"\n",
      "        # Set our model parameters!\n",
      "        self.cluster = cluster\n",
      "        self.num_org =  num_org\n",
      "        self.prob_C = prob_C\n",
      "        self.gov_cashMin = gov_cashMin\n",
      "        self.gov_cashMax = gov_cashMax\n",
      "        self.gov_capitalMin = gov_capitalMin\n",
      "        self.gov_capitalMax = gov_capitalMax\n",
      "        self.gov_peopleMin = gov_peopleMin\n",
      "        self.gov_peopleMax = gov_peopleMax\n",
      "        self.gov_DOCMin = gov_DOCMin\n",
      "        self.gov_DPCMax = gov_DOCMax\n",
      "        self.bus_cashMin = bus_cashMin\n",
      "        self.bus_cashMax = bus_cashMax\n",
      "        self.bus_capitalMin = bus_capitalMin\n",
      "        self.bus_capitalMax = bus_capitalMax\n",
      "        self.bus_peopleMin = bus_peopleMin\n",
      "        self.bus_peopleMax = bus_peopleMax\n",
      "        self.bus_DOCMin = bus_DOCMin\n",
      "        self.bus_DPCMax = bus_DOCMax\n",
      "        self.np_cashMin = np_cashMin\n",
      "        self.np_cashMax = np_cashMax\n",
      "        self.np_capitalMin = np_capitalMin\n",
      "        self.np_capitalMax = np_capitalMax\n",
      "        self.np_peopleMin = np_peopleMin\n",
      "        self.np_peopleMax = np_peopleMax\n",
      "        self.np_DOCMin = np_DOCMin\n",
      "        self.np_DPCMax = np_DOCMax\n",
      "        \n",
      "         # Set our state variables.\n",
      "        self.orgtype = gov or bus or np\n",
      "        self.num_connect=0\n",
      "        self.num_collaborate=0\n",
      "        \n",
      "    \n",
      "    \n",
      "        # Call our setup methods to initialize space, organizations\n",
      "        self.setup_network()\n",
      "        self.setup_gov()\n",
      "        self.setup_bus()\n",
      "        self.setup_np()\n",
      "        self.setup_facilitator()\n",
      "        \n",
      "    def setup_network(self):\n",
      "        \"\"\"\n",
      "        Method to setup the network\n",
      "        \"\"\"\n",
      "        # Create a compete graph1\n",
      "        self.G1 = nx.complete_graph(nodes)\n",
      "        nodes = 3\n",
      "        G1_layout = nx.spring_layout(G1, iterations=100)\n",
      "        nx.draw_networkx(G1, pos=G1_layout)\n",
      "\n",
      "        # Create a compete graph2\n",
      "         self.G2=nx.Graph()\n",
      "         nodes = 3\n",
      "         G2.add_edges_from([(3,4),(4,5),(3,5)])\n",
      "         G2_layout = nx.spring_layout(G2, iterations=100)\n",
      "         nx.draw_networkx(G2, pos=G2_layout)\n",
      "        \n",
      "        # Create a compete graph3\n",
      "         self.G3 = nx.Graph()\n",
      "         nodes = 3\n",
      "         G3.add_edges_from([(6,7),(7,8),(6,8)])\n",
      "         G3_layout = nx.spring_layout(G3, iterations=100)\n",
      "         nx.draw_networkx(G3, pos=G3_layout)\n",
      "            \n",
      "        # Create graph 4\n",
      "         self.G4 = nx.compose(G1,G2) \n",
      "         G4_layout = nx.spring_layout(G4, iterations=100)\n",
      "         nx.draw_networkx(G4, pos=G4_layout)\n",
      "        \n",
      "        # Create graph 5\n",
      "         self.G5 = nx.disjoint_union(G3,G4)\n",
      "         G5_layout = nx.spring_layout(G5, iterations=100)\n",
      "         nx.draw_networkx(G5, pos=G5_layout)\n",
      "        \n",
      "    def setup_gov(self):\n",
      "      \n",
      "        # create government agencies.\n",
      "        for i in xrange(self.num_gov):\n",
      "            self.gov.append(Gov(model=self,\n",
      "                                gov_id=i,\n",
      "                                prob_C\n",
      "                                gov_id_Cash=numpy.random.uniform(self.gov_cashMin, gov_cashMax),\n",
      "                                gov_id_Capital=numpy.random.uniform(self.gov_capitalMin, gov_capitalMax),\n",
      "                                gov__id_People=numpy.random.uniform(self.gov_peopleMin, gov_peopleMax),\n",
      "                                gov_id_DOC=numpy.random.uniform(self.gov_DOCMin, gov_DOCMax)))\n",
      "    \n",
      "    def setup_bus(self):\n",
      "                \n",
      "        #Create companies.\n",
      "        for i in xrange(self.num_bus):\n",
      "            self.bus.append(Bus(model=self,\n",
      "                                bus_id=i,\n",
      "                                prob_C,\n",
      "                                bus_id_Cash=numpy.random.uniform(self.bus_cashMin, bus_cashMax),\n",
      "                                bus_d_Capital=numpy.random.uniform(self.bus_capitalMin, bus_capitalMax)\n",
      "                                bus_id_People=numpy.random.uniform(self.bus_peopleMin, bus_peopleMax),\n",
      "                                bus_id_DOC=numpy.random.uniform(self.bus_DOCMin, gov_DOCMax)))\n",
      "            \n",
      "    def setup_np(self):\n",
      "        \n",
      "        #create nonprofit organizations.\n",
      "        for i in xrange(self.num_np):\n",
      "            self.np.append(Np(model=self,\n",
      "                              np_id=i,\n",
      "                              prob_C,\n",
      "                              np_id_Cash=numpy.random.uniform(self.np_cashMin, np_cashMax),\n",
      "                              np_id_Capital=numpy.random.uniform(self.np_capitalMin, np_capitalMax)\n",
      "                              np_id_People=numpy.random.uniform(self.np_peopleMin, np_peopleMax),\n",
      "                              np_id_DOC=numpy.random.uniform(self.np_DOCMin, np_DOCMax)))\n",
      "            \n",
      "      \n",
      "    "
     ],
     "language": "python",
     "metadata": {},
     "outputs": []
    },
    {
     "cell_type": "markdown",
     "metadata": {},
     "source": [
      "## I don't know how to place these organizations/ nodes I created above into the space/network I set up. I will continue explore ways to do so. \n",
      "## Model Class continue..."
     ]
    },
    {
     "cell_type": "code",
     "collapsed": false,
     "input": [
      "            \n",
      "    def decide_connect(self):\n",
      "        \n",
      "        \"\"\"\n",
      "        Decide if a node want to connect with another node from another cluster or not.\n",
      "        \"\"\"\n",
      "        if numpy.random.random() <= self.prob_C:\n",
      "            return True\n",
      "        else:\n",
      "            return False   \n",
      "    \n",
      "    def decide_collaborate(self):\n",
      "        \"\"\"       \n",
      "        After connected, a node decide if it wants to collaborate with the other node or not.\n",
      "        \"\"\"\n",
      "        if : orgtype_id_Cash-orgtype_id_Cash = 0.4 \n",
      "        or   orgtype_id_Capital-orgtype_id_bus_Capital >= 0.4\n",
      "        or   orgtype_id_People-orgtype_id_People >= 0.4\n",
      "        \n",
      "        and: orgtype_id_DOC-orgtype_id_DOC <= 0.6\n",
      "            return Success \n",
      "        else: \n",
      "            return Fail\n",
      "        \n",
      "       # Now run the model \n",
      "         max_steps = 100 \n",
      "     for step in xrange(max_steps):\n",
      "                \n",
      "       # Store changes\n",
      "        new_connected = []\n",
      "        new_collaborate = []\n",
      "        \n",
      "    def decide_connect_withF(self):\n",
      "        \"\"\"\n",
      "        With the presence of facilitator, decide if a node want to connect with another node from another cluster or not.\n",
      "        \"\"\"\n",
      "        if orgtype_id_DOC-orgtype_id_DOC <= 0.6\n",
      "            return True\n",
      "        else:\n",
      "            return False \n",
      "        \n",
      "     def decide_collaborate_withF(self):\n",
      "        \"\"\"       \n",
      "        With the presence of facilitator, decide if a node decide if it wants to collaborate with the other node or not after connected.\n",
      "        \"\"\"\n",
      "        if : orgtype_id_Cash-orgtype_id_Cash = 0.4 \n",
      "        or   orgtype_id_Capital-orgtype_id_bus_Capital >= 0.4\n",
      "        or   orgtype_id_People-orgtype_id_People >= 0.4\n",
      "\n",
      "            return Success \n",
      "        else: \n",
      "            return Fail\n",
      "        \n",
      "        # Now run the model with facilitator\n",
      "         max_steps = 100 \n",
      "    for step in xrange(max_steps):\n",
      "                \n",
      "       # Store changes\n",
      "        new_connected = []\n",
      "        new_collaborate = []\n"
     ],
     "language": "python",
     "metadata": {},
     "outputs": []
    },
    {
     "cell_type": "markdown",
     "metadata": {},
     "source": [
      "## Results\n",
      "\n",
      "Overview\n",
      "\n",
      "I hope to compare the outcomes, which are the number of collaborations formed under condition without a facilitator and condition with a facilitator. I also plan to sweep parameters such as the amount of resources and the degree of commitment that each type of org has and analyze their effect on forming collaboration. \n",
      "\n",
      "\n",
      "Hypothetical Results\n",
      "With a facilitator, an organization can connect with another one knwoing that both of their degree of commitments are close--this means the difference between their degree of commitment level is lower than 0.6. After organizations are connected, they decided whether to collaborate by checking the resources of each other.Without a facilitator, organizations have probability of connecting with others. After connected, they need to do two conditional testing, both for the degree of commitment and resources amount. It is expected that with facilitator, the process of forming collaboration is shorten by connecting organizations that has relatively closer value of degree of commitment. However, whether the collaboration is formed or not still depend on the resources that each organization has as it is a critical condition that need to be test no matter there is a facilitator or not. "
     ]
    }
   ],
   "metadata": {}
  }
 ]
}