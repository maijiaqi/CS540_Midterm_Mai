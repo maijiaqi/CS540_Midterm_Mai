{
 "metadata": {
  "name": "",
  "signature": "sha256:c23368478d02321b9bd0c614cf860a59dc13322eca21af11a32ab54a6a4c5c84"
 },
 "nbformat": 3,
 "nbformat_minor": 0,
 "worksheets": [
  {
   "cells": [
    {
     "cell_type": "markdown",
     "metadata": {},
     "source": [
      "Use Panda for data organizations and analysis(similiar with excel function)\n",
      "\n",
      "Different types of data: structure and unstructure data. \n",
      "-Series- vertical columns  -Row: index"
     ]
    },
    {
     "cell_type": "code",
     "collapsed": false,
     "input": [
      "# Imports\n",
      "import numpy as np\n",
      "import pandas as pd"
     ],
     "language": "python",
     "metadata": {},
     "outputs": [],
     "prompt_number": 27
    },
    {
     "cell_type": "markdown",
     "metadata": {},
     "source": [
      "## Create Series"
     ]
    },
    {
     "cell_type": "code",
     "collapsed": false,
     "input": [
      "s = pd.Series([1,3,5,np.nan,6,8])\n",
      "s"
     ],
     "language": "python",
     "metadata": {},
     "outputs": [
      {
       "metadata": {},
       "output_type": "pyout",
       "prompt_number": 28,
       "text": [
        "0     1\n",
        "1     3\n",
        "2     5\n",
        "3   NaN\n",
        "4     6\n",
        "5     8\n",
        "dtype: float64"
       ]
      }
     ],
     "prompt_number": 28
    },
    {
     "cell_type": "markdown",
     "metadata": {},
     "source": [
      "## Array"
     ]
    },
    {
     "cell_type": "code",
     "collapsed": false,
     "input": [
      "A=np.random.randn(6,4)\n",
      "A"
     ],
     "language": "python",
     "metadata": {},
     "outputs": [
      {
       "metadata": {},
       "output_type": "pyout",
       "prompt_number": 76,
       "text": [
        "array([[ 0.6056015 , -0.51747655,  1.84372825,  0.0757166 ],\n",
        "       [ 0.44932427,  0.13716819,  0.23374804,  0.32294729],\n",
        "       [ 2.01805742,  0.13409737, -0.39068618, -0.18478227],\n",
        "       [ 2.07292799,  0.81428514, -0.0095962 ,  0.49417681],\n",
        "       [ 1.03488449, -0.25972314,  0.21105179, -0.55180179],\n",
        "       [-0.5422805 , -1.30653546,  1.10717761, -0.76599194]])"
       ]
      }
     ],
     "prompt_number": 76
    },
    {
     "cell_type": "markdown",
     "metadata": {},
     "source": [
      "## DATAFRAME"
     ]
    },
    {
     "cell_type": "code",
     "collapsed": false,
     "input": [
      "df = pd.DataFrame(A,\n",
      "             columns=[\"age\",\"height\",\"weight\",\"color\"],\n",
      "             index=[\"a\",\"b\",\"c\",\"d\",\"e\",\"f\"])\n",
      "df"
     ],
     "language": "python",
     "metadata": {},
     "outputs": [
      {
       "html": [
        "<div style=\"max-height:1000px;max-width:1500px;overflow:auto;\">\n",
        "<table border=\"1\" class=\"dataframe\">\n",
        "  <thead>\n",
        "    <tr style=\"text-align: right;\">\n",
        "      <th></th>\n",
        "      <th>age</th>\n",
        "      <th>height</th>\n",
        "      <th>weight</th>\n",
        "      <th>color</th>\n",
        "    </tr>\n",
        "  </thead>\n",
        "  <tbody>\n",
        "    <tr>\n",
        "      <th>a</th>\n",
        "      <td> 0.605602</td>\n",
        "      <td>-0.517477</td>\n",
        "      <td> 1.843728</td>\n",
        "      <td> 0.075717</td>\n",
        "    </tr>\n",
        "    <tr>\n",
        "      <th>b</th>\n",
        "      <td> 0.449324</td>\n",
        "      <td> 0.137168</td>\n",
        "      <td> 0.233748</td>\n",
        "      <td> 0.322947</td>\n",
        "    </tr>\n",
        "    <tr>\n",
        "      <th>c</th>\n",
        "      <td> 2.018057</td>\n",
        "      <td> 0.134097</td>\n",
        "      <td>-0.390686</td>\n",
        "      <td>-0.184782</td>\n",
        "    </tr>\n",
        "    <tr>\n",
        "      <th>d</th>\n",
        "      <td> 2.072928</td>\n",
        "      <td> 0.814285</td>\n",
        "      <td>-0.009596</td>\n",
        "      <td> 0.494177</td>\n",
        "    </tr>\n",
        "    <tr>\n",
        "      <th>e</th>\n",
        "      <td> 1.034884</td>\n",
        "      <td>-0.259723</td>\n",
        "      <td> 0.211052</td>\n",
        "      <td>-0.551802</td>\n",
        "    </tr>\n",
        "    <tr>\n",
        "      <th>f</th>\n",
        "      <td>-0.542280</td>\n",
        "      <td>-1.306535</td>\n",
        "      <td> 1.107178</td>\n",
        "      <td>-0.765992</td>\n",
        "    </tr>\n",
        "  </tbody>\n",
        "</table>\n",
        "</div>"
       ],
       "metadata": {},
       "output_type": "pyout",
       "prompt_number": 91,
       "text": [
        "        age    height    weight     color\n",
        "a  0.605602 -0.517477  1.843728  0.075717\n",
        "b  0.449324  0.137168  0.233748  0.322947\n",
        "c  2.018057  0.134097 -0.390686 -0.184782\n",
        "d  2.072928  0.814285 -0.009596  0.494177\n",
        "e  1.034884 -0.259723  0.211052 -0.551802\n",
        "f -0.542280 -1.306535  1.107178 -0.765992"
       ]
      }
     ],
     "prompt_number": 91
    },
    {
     "cell_type": "markdown",
     "metadata": {},
     "source": [
      "## Dictonary"
     ]
    },
    {
     "cell_type": "code",
     "collapsed": false,
     "input": [
      "dates = pd.date_range('20130101',periods=6)\n",
      "\n",
      "dates"
     ],
     "language": "python",
     "metadata": {},
     "outputs": [
      {
       "metadata": {},
       "output_type": "pyout",
       "prompt_number": 92,
       "text": [
        "<class 'pandas.tseries.index.DatetimeIndex'>\n",
        "[2013-01-01, ..., 2013-01-06]\n",
        "Length: 6, Freq: D, Timezone: None"
       ]
      }
     ],
     "prompt_number": 92
    },
    {
     "cell_type": "code",
     "collapsed": false,
     "input": [
      "df2 = pd.DataFrame({'A':1.,\n",
      "    'B' : pd.Timestamp('20130102'),\n",
      "    'C' : pd.Series(1,index=list(range(4)),dtype='float32'),\n",
      "    'D' : np.array([3] * 4,dtype='int32'),\n",
      "    'E' : pd.Categorical([\"test\",\"train\",\"test\",\"train\"]),\n",
      "    'F' : 'foo' })\n",
      "df2"
     ],
     "language": "python",
     "metadata": {},
     "outputs": [
      {
       "html": [
        "<div style=\"max-height:1000px;max-width:1500px;overflow:auto;\">\n",
        "<table border=\"1\" class=\"dataframe\">\n",
        "  <thead>\n",
        "    <tr style=\"text-align: right;\">\n",
        "      <th></th>\n",
        "      <th>A</th>\n",
        "      <th>B</th>\n",
        "      <th>C</th>\n",
        "      <th>D</th>\n",
        "      <th>E</th>\n",
        "      <th>F</th>\n",
        "    </tr>\n",
        "  </thead>\n",
        "  <tbody>\n",
        "    <tr>\n",
        "      <th>0</th>\n",
        "      <td> 1</td>\n",
        "      <td>2013-01-02</td>\n",
        "      <td> 1</td>\n",
        "      <td> 3</td>\n",
        "      <td>  test</td>\n",
        "      <td> foo</td>\n",
        "    </tr>\n",
        "    <tr>\n",
        "      <th>1</th>\n",
        "      <td> 1</td>\n",
        "      <td>2013-01-02</td>\n",
        "      <td> 1</td>\n",
        "      <td> 3</td>\n",
        "      <td> train</td>\n",
        "      <td> foo</td>\n",
        "    </tr>\n",
        "    <tr>\n",
        "      <th>2</th>\n",
        "      <td> 1</td>\n",
        "      <td>2013-01-02</td>\n",
        "      <td> 1</td>\n",
        "      <td> 3</td>\n",
        "      <td>  test</td>\n",
        "      <td> foo</td>\n",
        "    </tr>\n",
        "    <tr>\n",
        "      <th>3</th>\n",
        "      <td> 1</td>\n",
        "      <td>2013-01-02</td>\n",
        "      <td> 1</td>\n",
        "      <td> 3</td>\n",
        "      <td> train</td>\n",
        "      <td> foo</td>\n",
        "    </tr>\n",
        "  </tbody>\n",
        "</table>\n",
        "</div>"
       ],
       "metadata": {},
       "output_type": "pyout",
       "prompt_number": 93,
       "text": [
        "   A          B  C  D      E    F\n",
        "0  1 2013-01-02  1  3   test  foo\n",
        "1  1 2013-01-02  1  3  train  foo\n",
        "2  1 2013-01-02  1  3   test  foo\n",
        "3  1 2013-01-02  1  3  train  foo"
       ]
      }
     ],
     "prompt_number": 93
    },
    {
     "cell_type": "code",
     "collapsed": false,
     "input": [
      "df2.dtypes"
     ],
     "language": "python",
     "metadata": {},
     "outputs": [
      {
       "metadata": {},
       "output_type": "pyout",
       "prompt_number": 94,
       "text": [
        "A           float64\n",
        "B    datetime64[ns]\n",
        "C           float32\n",
        "D             int32\n",
        "E            object\n",
        "F            object\n",
        "dtype: object"
       ]
      }
     ],
     "prompt_number": 94
    },
    {
     "cell_type": "code",
     "collapsed": false,
     "input": [
      "df2.columns"
     ],
     "language": "python",
     "metadata": {},
     "outputs": [
      {
       "metadata": {},
       "output_type": "pyout",
       "prompt_number": 95,
       "text": [
        "Index([u'A', u'B', u'C', u'D', u'E', u'F'], dtype='object')"
       ]
      }
     ],
     "prompt_number": 95
    },
    {
     "cell_type": "code",
     "collapsed": false,
     "input": [
      "df2.index"
     ],
     "language": "python",
     "metadata": {},
     "outputs": [
      {
       "metadata": {},
       "output_type": "pyout",
       "prompt_number": 100,
       "text": [
        "Int64Index([0, 1, 2, 3], dtype='int64')"
       ]
      }
     ],
     "prompt_number": 100
    },
    {
     "cell_type": "code",
     "collapsed": false,
     "input": [
      "for row_name in df2.index:\n",
      "    print(row_name)"
     ],
     "language": "python",
     "metadata": {},
     "outputs": [
      {
       "output_type": "stream",
       "stream": "stdout",
       "text": [
        "0\n",
        "1\n",
        "2\n",
        "3\n"
       ]
      }
     ],
     "prompt_number": 101
    },
    {
     "cell_type": "code",
     "collapsed": false,
     "input": [
      "df2.T"
     ],
     "language": "python",
     "metadata": {},
     "outputs": [
      {
       "html": [
        "<div style=\"max-height:1000px;max-width:1500px;overflow:auto;\">\n",
        "<table border=\"1\" class=\"dataframe\">\n",
        "  <thead>\n",
        "    <tr style=\"text-align: right;\">\n",
        "      <th></th>\n",
        "      <th>0</th>\n",
        "      <th>1</th>\n",
        "      <th>2</th>\n",
        "      <th>3</th>\n",
        "    </tr>\n",
        "  </thead>\n",
        "  <tbody>\n",
        "    <tr>\n",
        "      <th>A</th>\n",
        "      <td>                   1</td>\n",
        "      <td>                   1</td>\n",
        "      <td>                   1</td>\n",
        "      <td>                   1</td>\n",
        "    </tr>\n",
        "    <tr>\n",
        "      <th>B</th>\n",
        "      <td> 2013-01-02 00:00:00</td>\n",
        "      <td> 2013-01-02 00:00:00</td>\n",
        "      <td> 2013-01-02 00:00:00</td>\n",
        "      <td> 2013-01-02 00:00:00</td>\n",
        "    </tr>\n",
        "    <tr>\n",
        "      <th>C</th>\n",
        "      <td>                   1</td>\n",
        "      <td>                   1</td>\n",
        "      <td>                   1</td>\n",
        "      <td>                   1</td>\n",
        "    </tr>\n",
        "    <tr>\n",
        "      <th>D</th>\n",
        "      <td>                   3</td>\n",
        "      <td>                   3</td>\n",
        "      <td>                   3</td>\n",
        "      <td>                   3</td>\n",
        "    </tr>\n",
        "    <tr>\n",
        "      <th>E</th>\n",
        "      <td>                test</td>\n",
        "      <td>               train</td>\n",
        "      <td>                test</td>\n",
        "      <td>               train</td>\n",
        "    </tr>\n",
        "    <tr>\n",
        "      <th>F</th>\n",
        "      <td>                 foo</td>\n",
        "      <td>                 foo</td>\n",
        "      <td>                 foo</td>\n",
        "      <td>                 foo</td>\n",
        "    </tr>\n",
        "  </tbody>\n",
        "</table>\n",
        "</div>"
       ],
       "metadata": {},
       "output_type": "pyout",
       "prompt_number": 96,
       "text": [
        "                     0                    1                    2  \\\n",
        "A                    1                    1                    1   \n",
        "B  2013-01-02 00:00:00  2013-01-02 00:00:00  2013-01-02 00:00:00   \n",
        "C                    1                    1                    1   \n",
        "D                    3                    3                    3   \n",
        "E                 test                train                 test   \n",
        "F                  foo                  foo                  foo   \n",
        "\n",
        "                     3  \n",
        "A                    1  \n",
        "B  2013-01-02 00:00:00  \n",
        "C                    1  \n",
        "D                    3  \n",
        "E                train  \n",
        "F                  foo  "
       ]
      }
     ],
     "prompt_number": 96
    },
    {
     "cell_type": "code",
     "collapsed": false,
     "input": [
      "df2[\"A\"]"
     ],
     "language": "python",
     "metadata": {},
     "outputs": [
      {
       "metadata": {},
       "output_type": "pyout",
       "prompt_number": 87,
       "text": [
        "0    1\n",
        "1    1\n",
        "2    1\n",
        "3    1\n",
        "Name: A, dtype: float64"
       ]
      }
     ],
     "prompt_number": 87
    },
    {
     "cell_type": "code",
     "collapsed": false,
     "input": [
      "df2[\"T\"]=[1,2,\"bob\",\"joe\"]\n",
      "df2.T"
     ],
     "language": "python",
     "metadata": {},
     "outputs": [
      {
       "html": [
        "<div style=\"max-height:1000px;max-width:1500px;overflow:auto;\">\n",
        "<table border=\"1\" class=\"dataframe\">\n",
        "  <thead>\n",
        "    <tr style=\"text-align: right;\">\n",
        "      <th></th>\n",
        "      <th>0</th>\n",
        "      <th>1</th>\n",
        "      <th>2</th>\n",
        "      <th>3</th>\n",
        "    </tr>\n",
        "  </thead>\n",
        "  <tbody>\n",
        "    <tr>\n",
        "      <th>A</th>\n",
        "      <td>                   1</td>\n",
        "      <td>                   1</td>\n",
        "      <td>                   1</td>\n",
        "      <td>                   1</td>\n",
        "    </tr>\n",
        "    <tr>\n",
        "      <th>B</th>\n",
        "      <td> 2013-01-02 00:00:00</td>\n",
        "      <td> 2013-01-02 00:00:00</td>\n",
        "      <td> 2013-01-02 00:00:00</td>\n",
        "      <td> 2013-01-02 00:00:00</td>\n",
        "    </tr>\n",
        "    <tr>\n",
        "      <th>C</th>\n",
        "      <td>                   1</td>\n",
        "      <td>                   1</td>\n",
        "      <td>                   1</td>\n",
        "      <td>                   1</td>\n",
        "    </tr>\n",
        "    <tr>\n",
        "      <th>D</th>\n",
        "      <td>                   3</td>\n",
        "      <td>                   3</td>\n",
        "      <td>                   3</td>\n",
        "      <td>                   3</td>\n",
        "    </tr>\n",
        "    <tr>\n",
        "      <th>E</th>\n",
        "      <td>                test</td>\n",
        "      <td>               train</td>\n",
        "      <td>                test</td>\n",
        "      <td>               train</td>\n",
        "    </tr>\n",
        "    <tr>\n",
        "      <th>F</th>\n",
        "      <td>                 foo</td>\n",
        "      <td>                 foo</td>\n",
        "      <td>                 foo</td>\n",
        "      <td>                 foo</td>\n",
        "    </tr>\n",
        "    <tr>\n",
        "      <th>T</th>\n",
        "      <td>                   1</td>\n",
        "      <td>                   2</td>\n",
        "      <td>                 bob</td>\n",
        "      <td>                 joe</td>\n",
        "    </tr>\n",
        "  </tbody>\n",
        "</table>\n",
        "</div>"
       ],
       "metadata": {},
       "output_type": "pyout",
       "prompt_number": 104,
       "text": [
        "                     0                    1                    2  \\\n",
        "A                    1                    1                    1   \n",
        "B  2013-01-02 00:00:00  2013-01-02 00:00:00  2013-01-02 00:00:00   \n",
        "C                    1                    1                    1   \n",
        "D                    3                    3                    3   \n",
        "E                 test                train                 test   \n",
        "F                  foo                  foo                  foo   \n",
        "T                    1                    2                  bob   \n",
        "\n",
        "                     3  \n",
        "A                    1  \n",
        "B  2013-01-02 00:00:00  \n",
        "C                    1  \n",
        "D                    3  \n",
        "E                train  \n",
        "F                  foo  \n",
        "T                  joe  "
       ]
      }
     ],
     "prompt_number": 104
    },
    {
     "cell_type": "code",
     "collapsed": false,
     "input": [
      "df2.values"
     ],
     "language": "python",
     "metadata": {},
     "outputs": [
      {
       "metadata": {},
       "output_type": "pyout",
       "prompt_number": 105,
       "text": [
        "array([[1.0, Timestamp('2013-01-02 00:00:00'), 1.0, 3, 'test', 'foo', 1],\n",
        "       [1.0, Timestamp('2013-01-02 00:00:00'), 1.0, 3, 'train', 'foo', 2],\n",
        "       [1.0, Timestamp('2013-01-02 00:00:00'), 1.0, 3, 'test', 'foo', 'bob'],\n",
        "       [1.0, Timestamp('2013-01-02 00:00:00'), 1.0, 3, 'train', 'foo',\n",
        "        'joe']], dtype=object)"
       ]
      }
     ],
     "prompt_number": 105
    },
    {
     "cell_type": "code",
     "collapsed": false,
     "input": [
      "df2.max()"
     ],
     "language": "python",
     "metadata": {},
     "outputs": [
      {
       "metadata": {},
       "output_type": "pyout",
       "prompt_number": 106,
       "text": [
        "A                      1\n",
        "B    2013-01-02 00:00:00\n",
        "C                      1\n",
        "D                      3\n",
        "E                  train\n",
        "F                    foo\n",
        "T                    joe\n",
        "dtype: object"
       ]
      }
     ],
     "prompt_number": 106
    },
    {
     "cell_type": "code",
     "collapsed": false,
     "input": [
      "df2.max(axis=0)"
     ],
     "language": "python",
     "metadata": {},
     "outputs": [
      {
       "metadata": {},
       "output_type": "pyout",
       "prompt_number": 107,
       "text": [
        "A                      1\n",
        "B    2013-01-02 00:00:00\n",
        "C                      1\n",
        "D                      3\n",
        "E                  train\n",
        "F                    foo\n",
        "T                    joe\n",
        "dtype: object"
       ]
      }
     ],
     "prompt_number": 107
    },
    {
     "cell_type": "code",
     "collapsed": false,
     "input": [
      "df2.max(axis=1)"
     ],
     "language": "python",
     "metadata": {},
     "outputs": [
      {
       "metadata": {},
       "output_type": "pyout",
       "prompt_number": 108,
       "text": [
        "0    3\n",
        "1    3\n",
        "2    3\n",
        "3    3\n",
        "dtype: float64"
       ]
      }
     ],
     "prompt_number": 108
    },
    {
     "cell_type": "code",
     "collapsed": false,
     "input": [
      "df2.mean(axis=0)"
     ],
     "language": "python",
     "metadata": {},
     "outputs": [
      {
       "metadata": {},
       "output_type": "pyout",
       "prompt_number": 109,
       "text": [
        "A    1\n",
        "C    1\n",
        "D    3\n",
        "dtype: float64"
       ]
      }
     ],
     "prompt_number": 109
    },
    {
     "cell_type": "code",
     "collapsed": false,
     "input": [
      "df2.mean(axis=1)"
     ],
     "language": "python",
     "metadata": {},
     "outputs": [
      {
       "metadata": {},
       "output_type": "pyout",
       "prompt_number": 110,
       "text": [
        "0    1.666667\n",
        "1    1.666667\n",
        "2    1.666667\n",
        "3    1.666667\n",
        "dtype: float64"
       ]
      }
     ],
     "prompt_number": 110
    },
    {
     "cell_type": "markdown",
     "metadata": {},
     "source": [
      "## Viewing data"
     ]
    },
    {
     "cell_type": "code",
     "collapsed": false,
     "input": [
      "df2.head(1)"
     ],
     "language": "python",
     "metadata": {},
     "outputs": [
      {
       "html": [
        "<div style=\"max-height:1000px;max-width:1500px;overflow:auto;\">\n",
        "<table border=\"1\" class=\"dataframe\">\n",
        "  <thead>\n",
        "    <tr style=\"text-align: right;\">\n",
        "      <th></th>\n",
        "      <th>A</th>\n",
        "      <th>B</th>\n",
        "      <th>C</th>\n",
        "      <th>D</th>\n",
        "      <th>E</th>\n",
        "      <th>F</th>\n",
        "      <th>T</th>\n",
        "    </tr>\n",
        "  </thead>\n",
        "  <tbody>\n",
        "    <tr>\n",
        "      <th>0</th>\n",
        "      <td> 1</td>\n",
        "      <td>2013-01-02</td>\n",
        "      <td> 1</td>\n",
        "      <td> 3</td>\n",
        "      <td> test</td>\n",
        "      <td> foo</td>\n",
        "      <td> 1</td>\n",
        "    </tr>\n",
        "  </tbody>\n",
        "</table>\n",
        "</div>"
       ],
       "metadata": {},
       "output_type": "pyout",
       "prompt_number": 111,
       "text": [
        "   A          B  C  D     E    F  T\n",
        "0  1 2013-01-02  1  3  test  foo  1"
       ]
      }
     ],
     "prompt_number": 111
    },
    {
     "cell_type": "code",
     "collapsed": false,
     "input": [
      "df2.tail(2)"
     ],
     "language": "python",
     "metadata": {},
     "outputs": [
      {
       "html": [
        "<div style=\"max-height:1000px;max-width:1500px;overflow:auto;\">\n",
        "<table border=\"1\" class=\"dataframe\">\n",
        "  <thead>\n",
        "    <tr style=\"text-align: right;\">\n",
        "      <th></th>\n",
        "      <th>A</th>\n",
        "      <th>B</th>\n",
        "      <th>C</th>\n",
        "      <th>D</th>\n",
        "      <th>E</th>\n",
        "      <th>F</th>\n",
        "      <th>T</th>\n",
        "    </tr>\n",
        "  </thead>\n",
        "  <tbody>\n",
        "    <tr>\n",
        "      <th>2</th>\n",
        "      <td> 1</td>\n",
        "      <td>2013-01-02</td>\n",
        "      <td> 1</td>\n",
        "      <td> 3</td>\n",
        "      <td>  test</td>\n",
        "      <td> foo</td>\n",
        "      <td> bob</td>\n",
        "    </tr>\n",
        "    <tr>\n",
        "      <th>3</th>\n",
        "      <td> 1</td>\n",
        "      <td>2013-01-02</td>\n",
        "      <td> 1</td>\n",
        "      <td> 3</td>\n",
        "      <td> train</td>\n",
        "      <td> foo</td>\n",
        "      <td> joe</td>\n",
        "    </tr>\n",
        "  </tbody>\n",
        "</table>\n",
        "</div>"
       ],
       "metadata": {},
       "output_type": "pyout",
       "prompt_number": 112,
       "text": [
        "   A          B  C  D      E    F    T\n",
        "2  1 2013-01-02  1  3   test  foo  bob\n",
        "3  1 2013-01-02  1  3  train  foo  joe"
       ]
      }
     ],
     "prompt_number": 112
    },
    {
     "cell_type": "code",
     "collapsed": false,
     "input": [
      "df2.loc[0,:]"
     ],
     "language": "python",
     "metadata": {},
     "outputs": [
      {
       "metadata": {},
       "output_type": "pyout",
       "prompt_number": 113,
       "text": [
        "A                      1\n",
        "B    2013-01-02 00:00:00\n",
        "C                      1\n",
        "D                      3\n",
        "E                   test\n",
        "F                    foo\n",
        "T                      1\n",
        "Name: 0, dtype: object"
       ]
      }
     ],
     "prompt_number": 113
    },
    {
     "cell_type": "code",
     "collapsed": false,
     "input": [
      "df2.loc[:,\"D\"]"
     ],
     "language": "python",
     "metadata": {},
     "outputs": [
      {
       "metadata": {},
       "output_type": "pyout",
       "prompt_number": 114,
       "text": [
        "0    3\n",
        "1    3\n",
        "2    3\n",
        "3    3\n",
        "Name: D, dtype: int32"
       ]
      }
     ],
     "prompt_number": 114
    },
    {
     "cell_type": "code",
     "collapsed": false,
     "input": [
      "df2.loc[[0,1],[\"C\",\"D\"]]"
     ],
     "language": "python",
     "metadata": {},
     "outputs": [
      {
       "html": [
        "<div style=\"max-height:1000px;max-width:1500px;overflow:auto;\">\n",
        "<table border=\"1\" class=\"dataframe\">\n",
        "  <thead>\n",
        "    <tr style=\"text-align: right;\">\n",
        "      <th></th>\n",
        "      <th>C</th>\n",
        "      <th>D</th>\n",
        "    </tr>\n",
        "  </thead>\n",
        "  <tbody>\n",
        "    <tr>\n",
        "      <th>0</th>\n",
        "      <td> 1</td>\n",
        "      <td> 3</td>\n",
        "    </tr>\n",
        "    <tr>\n",
        "      <th>1</th>\n",
        "      <td> 1</td>\n",
        "      <td> 3</td>\n",
        "    </tr>\n",
        "  </tbody>\n",
        "</table>\n",
        "</div>"
       ],
       "metadata": {},
       "output_type": "pyout",
       "prompt_number": 115,
       "text": [
        "   C  D\n",
        "0  1  3\n",
        "1  1  3"
       ]
      }
     ],
     "prompt_number": 115
    },
    {
     "cell_type": "markdown",
     "metadata": {},
     "source": [
      "## Filter function"
     ]
    },
    {
     "cell_type": "code",
     "collapsed": false,
     "input": [
      "df2.loc[:,\"E\"]== \"test\""
     ],
     "language": "python",
     "metadata": {},
     "outputs": [
      {
       "metadata": {},
       "output_type": "pyout",
       "prompt_number": 116,
       "text": [
        "0     True\n",
        "1    False\n",
        "2     True\n",
        "3    False\n",
        "Name: E, dtype: bool"
       ]
      }
     ],
     "prompt_number": 116
    },
    {
     "cell_type": "code",
     "collapsed": false,
     "input": [
      "df2.loc[df2.loc[:,\"E\"]== \"test\",\n",
      "        :]"
     ],
     "language": "python",
     "metadata": {},
     "outputs": [
      {
       "html": [
        "<div style=\"max-height:1000px;max-width:1500px;overflow:auto;\">\n",
        "<table border=\"1\" class=\"dataframe\">\n",
        "  <thead>\n",
        "    <tr style=\"text-align: right;\">\n",
        "      <th></th>\n",
        "      <th>A</th>\n",
        "      <th>B</th>\n",
        "      <th>C</th>\n",
        "      <th>D</th>\n",
        "      <th>E</th>\n",
        "      <th>F</th>\n",
        "      <th>T</th>\n",
        "    </tr>\n",
        "  </thead>\n",
        "  <tbody>\n",
        "    <tr>\n",
        "      <th>0</th>\n",
        "      <td> 1</td>\n",
        "      <td>2013-01-02</td>\n",
        "      <td> 1</td>\n",
        "      <td> 3</td>\n",
        "      <td> test</td>\n",
        "      <td> foo</td>\n",
        "      <td>   1</td>\n",
        "    </tr>\n",
        "    <tr>\n",
        "      <th>2</th>\n",
        "      <td> 1</td>\n",
        "      <td>2013-01-02</td>\n",
        "      <td> 1</td>\n",
        "      <td> 3</td>\n",
        "      <td> test</td>\n",
        "      <td> foo</td>\n",
        "      <td> bob</td>\n",
        "    </tr>\n",
        "  </tbody>\n",
        "</table>\n",
        "</div>"
       ],
       "metadata": {},
       "output_type": "pyout",
       "prompt_number": 117,
       "text": [
        "   A          B  C  D     E    F    T\n",
        "0  1 2013-01-02  1  3  test  foo    1\n",
        "2  1 2013-01-02  1  3  test  foo  bob"
       ]
      }
     ],
     "prompt_number": 117
    },
    {
     "cell_type": "code",
     "collapsed": false,
     "input": [
      "df2.loc[(df2.loc[:,\"E\"] == \"test\") & (df2.loc[:,\"T\"] == \"bob\"), :]"
     ],
     "language": "python",
     "metadata": {},
     "outputs": [
      {
       "html": [
        "<div style=\"max-height:1000px;max-width:1500px;overflow:auto;\">\n",
        "<table border=\"1\" class=\"dataframe\">\n",
        "  <thead>\n",
        "    <tr style=\"text-align: right;\">\n",
        "      <th></th>\n",
        "      <th>A</th>\n",
        "      <th>B</th>\n",
        "      <th>C</th>\n",
        "      <th>D</th>\n",
        "      <th>E</th>\n",
        "      <th>F</th>\n",
        "      <th>T</th>\n",
        "    </tr>\n",
        "  </thead>\n",
        "  <tbody>\n",
        "    <tr>\n",
        "      <th>2</th>\n",
        "      <td> 1</td>\n",
        "      <td>2013-01-02</td>\n",
        "      <td> 1</td>\n",
        "      <td> 3</td>\n",
        "      <td> test</td>\n",
        "      <td> foo</td>\n",
        "      <td> bob</td>\n",
        "    </tr>\n",
        "  </tbody>\n",
        "</table>\n",
        "</div>"
       ],
       "metadata": {},
       "output_type": "pyout",
       "prompt_number": 118,
       "text": [
        "   A          B  C  D     E    F    T\n",
        "2  1 2013-01-02  1  3  test  foo  bob"
       ]
      }
     ],
     "prompt_number": 118
    },
    {
     "cell_type": "code",
     "collapsed": false,
     "input": [],
     "language": "python",
     "metadata": {},
     "outputs": []
    }
   ],
   "metadata": {}
  }
 ]
}