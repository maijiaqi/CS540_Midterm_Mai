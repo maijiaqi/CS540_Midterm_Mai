{
 "metadata": {
  "name": "",
  "signature": "sha256:7b86730a6b244efa080bda5a89f1b34883fcad3113aaf1c78b6e85000a17a8b8"
 },
 "nbformat": 3,
 "nbformat_minor": 0,
 "worksheets": [
  {
   "cells": [
    {
     "cell_type": "markdown",
     "metadata": {},
     "source": [
      "Dataquest.io: \n",
      "Mission-Find the US city with the lowest crime rate"
     ]
    },
    {
     "cell_type": "markdown",
     "metadata": {},
     "source": [
      "Step 1: Open the CSV file "
     ]
    },
    {
     "cell_type": "code",
     "collapsed": false,
     "input": [
      "b = open('crime_rates.csv', 'r')\n",
      "f = open('crime_rates.csv', 'r')\n",
      "b = f.read()"
     ],
     "language": "python",
     "metadata": {},
     "outputs": [
      {
       "ename": "IOError",
       "evalue": "[Errno 2] No such file or directory: 'crime_rates.csv'",
       "output_type": "pyerr",
       "traceback": [
        "\u001b[1;31m---------------------------------------------------------------------------\u001b[0m\n\u001b[1;31mIOError\u001b[0m                                   Traceback (most recent call last)",
        "\u001b[1;32m<ipython-input-3-a48db8728426>\u001b[0m in \u001b[0;36m<module>\u001b[1;34m()\u001b[0m\n\u001b[1;32m----> 1\u001b[1;33m \u001b[0mb\u001b[0m \u001b[1;33m=\u001b[0m \u001b[0mopen\u001b[0m\u001b[1;33m(\u001b[0m\u001b[1;34m'crime_rates.csv'\u001b[0m\u001b[1;33m,\u001b[0m \u001b[1;34m'r'\u001b[0m\u001b[1;33m)\u001b[0m\u001b[1;33m\u001b[0m\u001b[0m\n\u001b[0m\u001b[0;32m      2\u001b[0m \u001b[0mf\u001b[0m \u001b[1;33m=\u001b[0m \u001b[0mopen\u001b[0m\u001b[1;33m(\u001b[0m\u001b[1;34m'crime_rates.csv'\u001b[0m\u001b[1;33m,\u001b[0m \u001b[1;34m'r'\u001b[0m\u001b[1;33m)\u001b[0m\u001b[1;33m\u001b[0m\u001b[0m\n\u001b[0;32m      3\u001b[0m \u001b[0mb\u001b[0m \u001b[1;33m=\u001b[0m \u001b[0mf\u001b[0m\u001b[1;33m.\u001b[0m\u001b[0mread\u001b[0m\u001b[1;33m(\u001b[0m\u001b[1;33m)\u001b[0m\u001b[1;33m\u001b[0m\u001b[0m\n",
        "\u001b[1;31mIOError\u001b[0m: [Errno 2] No such file or directory: 'crime_rates.csv'"
       ]
      }
     ],
     "prompt_number": 3
    },
    {
     "cell_type": "markdown",
     "metadata": {},
     "source": [
      "Step 2: Make a list\n",
      "Make a list d that contains all integer values. Make another list e containing all string values. Make a final list f containing all float values."
     ]
    },
    {
     "cell_type": "code",
     "collapsed": false,
     "input": [
      "d = [2,22,222]\n",
      "e = [\"eat\",\"play\",\"love\"]\n",
      "f = [0.3,0.89,0.02]\n",
      "a = d[0]\n",
      "b = d[1]\n",
      "print b"
     ],
     "language": "python",
     "metadata": {},
     "outputs": [
      {
       "output_type": "stream",
       "stream": "stdout",
       "text": [
        "22\n"
       ]
      }
     ],
     "prompt_number": 4
    },
    {
     "cell_type": "markdown",
     "metadata": {},
     "source": [
      "Splitting a CSV file\n",
      "\n",
      "Remember how strings are also objects? Well, we can use the .split method to split strings. The .split method takes a character as input, and then turns a string into a list of strings."
     ]
    },
    {
     "cell_type": "code",
     "collapsed": false,
     "input": [
      "f = open('crime_rates.csv', 'r')\n",
      "data = f.read()\n",
      "rows = data.split('\\n')"
     ],
     "language": "python",
     "metadata": {},
     "outputs": []
    },
    {
     "cell_type": "markdown",
     "metadata": {},
     "source": [
      "Create a loop using the for i in the_list: notation."
     ]
    },
    {
     "cell_type": "code",
     "collapsed": false,
     "input": [
      "the_list = [3,5,8,10,15,17,19]\n",
      "for i in the_list: \n",
      "    print (i)\n",
      "    \n",
      "    \n",
      "the_list = [3,5,8,10,15,17,19]\n",
      "sum = 0\n",
      "for i in the_list:\n",
      "    # Triple the value of i.\n",
      "    tripled_i = i * 3\n",
      "    # Add the doubled value to the sum.\n",
      "    sum = sum + tripled_i\n",
      "print(sum)"
     ],
     "language": "python",
     "metadata": {},
     "outputs": []
    },
    {
     "cell_type": "code",
     "collapsed": false,
     "input": [
      "# Create a list of lists\n",
      "lolists = [[1,2,3], [10,15,14], [10.1,8.7,2.3]]\n",
      "\n",
      "# We can pull out the first element of the list, which is [1,2,3].\n",
      "# Since [1,2,3] is a list, we can also index it to get elements out.\n",
      "a = lolists[0]\n",
      "b = a[0]\n",
      "list1 = lolists[1]\n",
      "value_1_0 = list1[0]\n",
      "value_1_2 = list1[2]\n",
      "\n",
      "list2 = lolists[2]\n",
      "value_2_0 = list2[0]\n",
      "value_2_2 = list2[2]\n",
      "\n",
      "for inner_list in lolists:\n",
      "    print(inner_list[0])"
     ],
     "language": "python",
     "metadata": {},
     "outputs": []
    },
    {
     "cell_type": "markdown",
     "metadata": {},
     "source": [
      "Adding to a list"
     ]
    },
    {
     "cell_type": "code",
     "collapsed": false,
     "input": [
      "c = [20,30]\n",
      "print(c)\n",
      "c.append(60)\n",
      "print(c)\n",
      "c.append(70)\n",
      "print(c)"
     ],
     "language": "python",
     "metadata": {},
     "outputs": []
    },
    {
     "cell_type": "markdown",
     "metadata": {},
     "source": [
      "Splitting the csv file into columns\n",
      "\n",
      "When we left off with parsing our csv file, we had split it into rows, but still had to split up the strings we were left with into columns. We can use the .split method, along with our newfound knowledge of for loops and lists of lists, to split up the file.\n",
      "\n",
      "split each string in the list rows and append the result to full_data. At the end, full_data will be a list of lists containing the rows and columns in the csv file. You'll need to use for loops."
     ]
    },
    {
     "cell_type": "code",
     "collapsed": false,
     "input": [
      "# We can use the .split method, with a comma as an input, to split a string on a comma.\n",
      "# a_list is a list with 1,10,15, and 20 as elements.\n",
      "a_string = \"1,10,15,20\"\n",
      "a_list = a_string.split(\",\")\n",
      "print(a_list)\n",
      "print(type(a_list))\n",
      "print(a_list[0])\n",
      "\n",
      "# We split our csv file data into rows earlier.\n",
      "f = open('crime_rates.csv', 'r')\n",
      "data = f.read()\n",
      "rows = data.split('\\n')\n",
      "\n",
      "full_data = []\n",
      "for row in rows:\n",
      "    split_row = row.split(\",\")\n",
      "    full_data.append(split_row)"
     ],
     "language": "python",
     "metadata": {},
     "outputs": []
    },
    {
     "cell_type": "code",
     "collapsed": false,
     "input": [
      "# Finding the number of rows: We can iterate over the data to count up the number of rows.We can parse our csv file like we did before.\n",
      "\n",
      "f = open('crime_rates.csv', 'r')\n",
      "data = f.read()\n",
      "rows = data.split('\\n')\n",
      "full_data = []\n",
      "for row in rows:\n",
      "    split_row = row.split(\",\")\n",
      "    full_data.append(split_row)\n",
      "count = 0\n",
      "for item in full_data:\n",
      "    count = count + 1\n",
      "    \n",
      "\n",
      "# Finding the number of columns: All of the rows have the same number of items, so 3 is our column count.\n",
      "\n",
      "f = open('crime_rates.csv', 'r')\n",
      "data = f.read()\n",
      "rows = data.split('\\n')\n",
      "full_data = []\n",
      "for row in rows:\n",
      "    split_row = row.split(\",\")\n",
      "    full_data.append(split_row)\n",
      "first_row = full_data[0]\n",
      "count = 0\n",
      "for column in first_row:\n",
      "    count = count + 1"
     ],
     "language": "python",
     "metadata": {},
     "outputs": []
    },
    {
     "cell_type": "markdown",
     "metadata": {},
     "source": [
      "Using if statements to find the smallest value: Set the smallest_item variable equal to the lowest value in a. Use a for loop to loop through a."
     ]
    },
    {
     "cell_type": "code",
     "collapsed": false,
     "input": [
      "# The first time through the loop above, smallest_item will be set to 20, because 20 < 1000 is True.\n",
      "# The second time through, smallest_item will stay at 20, because 50 < 20 is False.\n",
      "# The third time through, smallest_item will be set to 5, because 5 < 20 is True.\n",
      "# The last time through, smallest_item will stay at 5, because 100 < 5 is False.\n",
      "\n",
      "smallest_item = 1000\n",
      "a = [500,10,200,5,78,-1,-10,-100,567,890,400,34,-101,895]\n",
      "for item in a:\n",
      "    if item < smallest_item:\n",
      "        smallest_item = item\n",
      "print(smallest_item)"
     ],
     "language": "python",
     "metadata": {},
     "outputs": []
    },
    {
     "cell_type": "code",
     "collapsed": false,
     "input": [
      "#  convert a list into integers.\n",
      "\n",
      "a = ['10', '15', '20', '35']\n",
      "new_a = []\n",
      "for item in a: \n",
      "    item_int = int(item)\n",
      "    new_a.append(item_int)"
     ],
     "language": "python",
     "metadata": {},
     "outputs": []
    },
    {
     "cell_type": "markdown",
     "metadata": {},
     "source": [
      "Convert our crime rate column to integers while we are reading it in. In order to do this, we'll need to convert the values in the second column to integers after splitting the rows.\n",
      "\n",
      "Insert code into the example that will turn the second value in split_row into an integer."
     ]
    },
    {
     "cell_type": "code",
     "collapsed": false,
     "input": [
      "f = open('crime_rates.csv', 'r')\n",
      "data = f.read()\n",
      "rows = data.split('\\n')\n",
      "full_data = []\n",
      "for row in rows:\n",
      "    split_row = row.split(\",\")\n",
      "    # Insert your code here.\n",
      "    full_data.append(split_row)\n",
      "    full_data = []\n",
      "for row in rows:\n",
      "    split_row = row.split(\",\")\n",
      "    split_row[1] = int(split_row[1])\n",
      "    full_data.append(split_row)"
     ],
     "language": "python",
     "metadata": {},
     "outputs": []
    },
    {
     "cell_type": "markdown",
     "metadata": {},
     "source": [
      "Find the lowest crime rate\n",
      "Set lowest_crime_rate equal to the lowest crime rate in full_data. Use for loops and if statements like we did in the last screen. You'll also need to the index the second item in each row inside the loop."
     ]
    },
    {
     "cell_type": "code",
     "collapsed": false,
     "input": [
      "f = open('crime_rates.csv', 'r')\n",
      "data = f.read()\n",
      "rows = data.split('\\n')\n",
      "full_data = []\n",
      "for row in rows:\n",
      "    split_row = row.split(\",\")\n",
      "    split_row[1] = int(split_row[1])\n",
      "    full_data.append(split_row)\n",
      "\n",
      "lowest_crime_rate = 10000\n",
      "for row in full_data:\n",
      "    crime_rate = row[1]\n",
      "    if crime_rate < lowest_crime_rate:\n",
      "        lowest_crime_rate = crime_rate\n",
      "        \n",
      "# Searching the list\n",
      "\n",
      "a = [500,10,200,5,78,-1,-10,-100,567,890,400,34,-101,895]\n",
      "for item in a:\n",
      "    if item == 78:\n",
      "        print(\"Yes\")\n",
      "\n",
      "# Find the second element in the inner list whose first element is 7. Assign the answer to the value variable.\n",
      "        \n",
      "lolist = [[1,5,7],[10,8,9],[7,10,11]]\n",
      "\n",
      "value = 0\n",
      "for item in lolist:\n",
      "    if item[0] == 7:\n",
      "        value = item[1]        \n",
      "        \n",
      "# Finding the answer: Assign the city with the lowest crime rate to city.\n",
      "\n",
      "f = open('crime_rates.csv', 'r')\n",
      "data = f.read()\n",
      "rows = data.split('\\n')\n",
      "full_data = []\n",
      "for row in rows:\n",
      "    split_row = row.split(\",\")\n",
      "    split_row[1] = int(split_row[1])\n",
      "    full_data.append(split_row)\n",
      "\n",
      "city = \"\"\n",
      "for row in full_data:\n",
      "    if row[1] == 130:\n",
      "        city = row[0]"
     ],
     "language": "python",
     "metadata": {},
     "outputs": []
    }
   ],
   "metadata": {}
  }
 ]
}